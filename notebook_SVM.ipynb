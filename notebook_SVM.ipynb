{
 "cells": [
  {
   "cell_type": "code",
   "execution_count": null,
   "metadata": {
    "vscode": {
     "languageId": "plaintext"
    }
   },
   "outputs": [],
   "source": [
    "# Support Vector Machine Algorithm (SVM)\n",
    "\n",
    "Support Vector Machine or SVM is one of the most popular Supervised Learning algorithms, which is used for Classification as well as Regression problems. However, primarily, it is used for Classification problems in Machine Learning.\n",
    "\n",
    "The goal of the SVM algorithm is to create the best line or decision boundary that can segregate n-dimensional space into classes so that we can easily put the new data point in the correct category in the future. This best decision boundary is called a hyperplane.\n",
    "\n",
    "SVM chooses the extreme points/vectors that help in creating the hyperplane. These extreme cases are called as support vectors, and hence algorithm is termed as Support Vector Machine. Consider the below diagram in which there are two different categories that are classified using a decision boundary or hyperplane:\n",
    "\n",
    "https://static.javatpoint.com/tutorial/machine-learning/images/support-vector-machine-algorithm.png"
   ]
  },
  {
   "cell_type": "code",
   "execution_count": null,
   "metadata": {
    "vscode": {
     "languageId": "plaintext"
    }
   },
   "outputs": [],
   "source": [
    "# Example\n",
    "SVM can be understood with the example that we have used in the KNN classifier. Suppose we see a strange cat that also has some features of dogs, so if we want a model that can accurately identify whether it is a cat or dog, so such a model can be created by using the SVM algorithm. We will first train our model with lots of images of cats and dogs so that it can learn about different features of cats and dogs, and then we test it with this strange creature. So as support vector creates a decision boundary between these two data (cat and dog) and choose extreme cases (support vectors), it will see the extreme case of cat and dog. On the basis of the support vectors, it will classify it as a cat. Consider the below diagram:\n",
    "\n",
    "https://static.javatpoint.com/tutorial/machine-learning/images/support-vector-machine-algorithm2.png\n",
    "\n",
    "*SVM algorithm can be used for Face detection, image classification, text categorization, etc."
   ]
  },
  {
   "cell_type": "code",
   "execution_count": null,
   "metadata": {
    "vscode": {
     "languageId": "plaintext"
    }
   },
   "outputs": [],
   "source": [
    "# Types of SVM\n",
    "SVM can be of 2 types:\n",
    "\n",
    "1-Linear SVM: Linear SVM is used for linearly separable data, which means if a dataset can be classified into two classes by using a single straight line, then such data is termed as linearly separable data, and classifier is used called as Linear SVM classifier.\n",
    "\n",
    "2-Non-linear SVM: Non-Linear SVM is used for non-linearly separated data, which means if a dataset cannot be classified by using a straight line, then such data is termed as non-linear data and classifier used is called as Non-linear SVM classifier."
   ]
  },
  {
   "cell_type": "code",
   "execution_count": null,
   "metadata": {
    "vscode": {
     "languageId": "plaintext"
    }
   },
   "outputs": [],
   "source": [
    "# Hyperplane and Support Vectors in the SVM algorithm:\n",
    "\n",
    "Hyperplane:\n",
    "\n",
    "There can be multiple lines/decision boundaries to segregate the classes in n-dimensional space, but we need to find out the best decision boundary that helps to classify the data points. This best boundary is known as the hyperplane of SVM.\n",
    "\n",
    "The dimensions of the hyperplane depend on the features present in the dataset, which means if there are 2 features (as shown in image), then hyperplane will be a straight line. And if there are 3 features, then hyperplane will be a 2-dimension plane.\n",
    "We always create a hyperplane that has a maximum margin, which means the maximum distance between the data points.\n",
    "\n",
    "Support Vectors: \n",
    "\n",
    "The data points or vectors that are the closest to the hyperplane and which affect the position of the hyperplane are termed as Support Vector. Since these vectors support the hyperplane, hence called a Support vector."
   ]
  },
  {
   "cell_type": "code",
   "execution_count": null,
   "metadata": {
    "vscode": {
     "languageId": "plaintext"
    }
   },
   "outputs": [],
   "source": [
    "# How does SVM works?\n",
    "\n",
    "Linear SVM:\n",
    "\n",
    "The working of the SVM algorithm can be understood by using an example. Suppose we have a dataset that has two tags (green and blue), and the dataset has two features x1 and x2. We want a classifier that can classify the pair(x1, x2) of coordinates in either green or blue.\n",
    "So as it is 2-d space so by just using a straight line, we can easily separate these two classes. But there can be multiple lines that can separate these classes.\n",
    "Hence, the SVM algorithm helps to find the best line or decision boundary; this best boundary or region is called as a hyperplane. SVM algorithm finds the closest point of the lines from both the classes. These points are called support vectors. The distance between the vectors and the hyperplane is called as margin. And the goal of SVM is to maximize this margin. The hyperplane with maximum margin is called the optimal hyperplane:\n",
    "\n",
    "https://static.javatpoint.com/tutorial/machine-learning/images/support-vector-machine-algorithm5.png\n",
    "\n",
    "\n",
    "Non-Linear SVM:\n",
    "\n",
    "If data is linearly arranged, then we can separate it by using a straight line, but for non-linear data, we cannot draw a single straight line\n",
    "So to separate these data points, we need to add one more dimension. For linear data, we have used two dimensions x and y, so for non-linear data, we will add a third dimension z. It can be calculated as:z=x2 +y2\n",
    "So now, SVM will divide the datasets into classes in the following way,Since we are in 3-d Space, hence it is looking like a plane parallel to the x-axis. If we convert it in 2d space with z=1, then it will become as:\n",
    "\n",
    "https://static.javatpoint.com/tutorial/machine-learning/images/support-vector-machine-algorithm9.png\n",
    "\n",
    "Hence we get a circumference of radius 1 in case of non-linear data."
   ]
  },
  {
   "cell_type": "code",
   "execution_count": null,
   "metadata": {
    "vscode": {
     "languageId": "plaintext"
    }
   },
   "outputs": [],
   "source": [
    "# Python Implementation of Support Vector Machine with CNN classes:"
   ]
  },
  {
   "cell_type": "code",
   "execution_count": null,
   "metadata": {},
   "outputs": [],
   "source": [
    "from __future__ import absolute_import\n",
    "from __future__ import division\n",
    "from __future__ import print_function\n",
    "\n",
    "__version__ = \"0.1.0\"\n",
    "__author__ = \"Abien Fred Agarap\"\n",
    "\n",
    "import argparse\n",
    "from model.cnn_softmax import CNN\n",
    "from model.cnn_svm import CNNSVM\n",
    "from tensorflow.examples.tutorials.mnist import input_data\n",
    "\n",
    "\n",
    "def parse_args():\n",
    "    parser = argparse.ArgumentParser(\n",
    "        description=\"CNN & CNN-SVM for Image Classification\"\n",
    "    )\n",
    "    group = parser.add_argument_group(\"Arguments\")\n",
    "    group.add_argument(\n",
    "        \"-m\", \"--model\", required=True, type=str, help=\"[1] CNN-Softmax, [2] CNN-SVM\"\n",
    "    )\n",
    "    group.add_argument(\n",
    "        \"-d\", \"--dataset\", required=True, type=str, help=\"path of the MNIST dataset\"\n",
    "    )\n",
    "    group.add_argument(\n",
    "        \"-p\",\n",
    "        \"--penalty_parameter\",\n",
    "        required=False,\n",
    "        type=int,\n",
    "        help=\"the SVM C penalty parameter\",\n",
    "    )\n",
    "    group.add_argument(\n",
    "        \"-c\",\n",
    "        \"--checkpoint_path\",\n",
    "        required=True,\n",
    "        type=str,\n",
    "        help=\"path where to save the trained model\",\n",
    "    )\n",
    "    group.add_argument(\n",
    "        \"-l\",\n",
    "        \"--log_path\",\n",
    "        required=True,\n",
    "        type=str,\n",
    "        help=\"path where to save the TensorBoard logs\",\n",
    "    )\n",
    "    arguments = parser.parse_args()\n",
    "    return arguments\n",
    "\n",
    "\n",
    "if __name__ == \"__main__\":\n",
    "    args = parse_args()\n",
    "\n",
    "    mnist = input_data.read_data_sets(args.dataset, one_hot=True)\n",
    "    num_classes = mnist.train.labels.shape[1]\n",
    "    sequence_length = mnist.train.images.shape[1]\n",
    "    model_choice = args.model\n",
    "\n",
    "    assert (\n",
    "        model_choice == \"1\" or model_choice == \"2\"\n",
    "    ), \"Invalid choice: Choose between 1 and 2 only.\"\n",
    "\n",
    "    if model_choice == \"1\":\n",
    "        model = CNN(\n",
    "            alpha=1e-3,\n",
    "            batch_size=128,\n",
    "            num_classes=num_classes,\n",
    "            num_features=sequence_length,\n",
    "        )\n",
    "        model.train(\n",
    "            checkpoint_path=args.checkpoint_path,\n",
    "            epochs=10000,\n",
    "            log_path=args.log_path,\n",
    "            train_data=mnist.train,\n",
    "            test_data=mnist.test,\n",
    "        )\n",
    "    elif model_choice == \"2\":\n",
    "        model = CNNSVM(\n",
    "            alpha=1e-3,\n",
    "            batch_size=128,\n",
    "            num_classes=num_classes,\n",
    "            num_features=sequence_length,\n",
    "            penalty_parameter=args.penalty_parameter,\n",
    "        )\n",
    "        model.train(\n",
    "            checkpoint_path=args.checkpoint_path,\n",
    "            epochs=10000,\n",
    "            log_path=args.log_path,\n",
    "            train_data=mnist.train,\n",
    "            test_data=mnist.test,\n",
    "        )"
   ]
  },
  {
   "cell_type": "code",
   "execution_count": null,
   "metadata": {
    "vscode": {
     "languageId": "plaintext"
    }
   },
   "outputs": [],
   "source": [
    "# Results\n",
    "\n",
    "The hyperparameters used in this project were manually assigned, and not through optimization:"
   ]
  },
  {
   "attachments": {},
   "cell_type": "markdown",
   "metadata": {},
   "source": [
    "Hyperparameters \tCNN-Softmax \tCNN-SVM\n",
    "Batch-size  \t       128\t          128\n",
    "Learning rate\t       1e-3           1e-3\n",
    "Steps\t               10000\t      10000\n",
    "SVM C\t               N/A\t          1"
   ]
  },
  {
   "cell_type": "code",
   "execution_count": null,
   "metadata": {
    "vscode": {
     "languageId": "json"
    }
   },
   "outputs": [],
   "source": [
    "https://github.com/AFAgarap/cnn-svm/raw/master/figures/accuracy-loss-mnist.png\n",
    "https://github.com/AFAgarap/cnn-svm/raw/master/figures/accuracy-loss-mnist.png"
   ]
  }
 ],
 "metadata": {
  "language_info": {
   "name": "python"
  },
  "orig_nbformat": 4
 },
 "nbformat": 4,
 "nbformat_minor": 2
}
