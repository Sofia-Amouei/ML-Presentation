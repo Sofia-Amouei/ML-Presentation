{
 "cells": [
  {
   "attachments": {},
   "cell_type": "markdown",
   "metadata": {},
   "source": [
    "# Radial Basis Function (RBF)\n",
    "\n",
    "A radial basis function(RBF) is a real-valued function whose value depends only on the input and its distance from some fixed point (c) or the origin. The function satisfies the criteria below:\n",
    "\n",
    "https://ml-concepts.com/wp-content/uploads/2022/03/functn-1.jpg\n",
    "\n",
    "he distance is usually the Euclidean distance between two points. The Euclidean distance is calculated as follows:\n",
    "\n",
    "https://ml-concepts.com/wp-content/uploads/2022/03/ed.png\n",
    "\n",
    "The sum of radial basis functions is typically used to approximate the given function:\n",
    "\n",
    "https://ml-concepts.com/wp-content/uploads/2022/03/rbf-form-2.jpg"
   ]
  },
  {
   "attachments": {},
   "cell_type": "markdown",
   "metadata": {},
   "source": [
    "# Radial Basis Function (RBF) kernel and Python examples\n",
    "\n",
    "RBF is the default kernel used within the sklearn’s SVM classification algorithm and can be described with the following formula:\n",
    "https://miro.medium.com/max/640/1*A-8LqEJEyedmdePZYke-IA.webp\n",
    "\n",
    "where gamma can be set manually and has to be >0. The default value for gamma in sklearn’s SVM classification algorithm is:\n",
    "https://miro.medium.com/max/400/1*obsw3v2O_eCdqqFajcTvfw.webp\n",
    "\n",
    "Briefly:\n",
    "||x - x'||² is the squared Euclidean distance between two feature vectors (2 points).\n",
    "Gamma is a scalar that defines how much influence a single training example (point) has. "
   ]
  },
  {
   "attachments": {},
   "cell_type": "markdown",
   "metadata": {},
   "source": [
    "# But what does this mean?\n",
    "\n",
    "||x – xn|| is the radial part of the function, since its value depends on some distance from a fixed center. The basis function is the mathematical representation of the gaussian function. Now, you have points (xn,yn) ∈ D, where D is a dataset. All the points in D affect a hypothesis h(x). This means that all the points in the dataset affect and influence a machine learning model. But in our case, it affects h(x) specifically based on ||x – xn|| , i.e the distance"
   ]
  },
  {
   "attachments": {},
   "cell_type": "markdown",
   "metadata": {},
   "source": [
    "# Applications of Radial Basis Function\n",
    "\n",
    "Radial basis functions serve as a glue for many topics of machine learning. RBFs are often used for classification."
   ]
  },
  {
   "attachments": {},
   "cell_type": "markdown",
   "metadata": {},
   "source": [
    "How to choose the centers?\n",
    "We choose K number of clusters, where K << N. We get K number of centers for K clusters.\n",
    "\n",
    "Our main objective is to minimize the distance between xn and the closed center uk. We choose a cluster around the center uk and split the data points D into K clusters. We choose points that are nearest to the center. We minimize ||xn-uk||2 of all the points in each cluster where xn are points nearest to the center uk.\n",
    "Mathematically, we express the equation as follows:\n",
    "\n",
    "https://ml-concepts.com/wp-content/uploads/2022/03/knn2.jpg"
   ]
  },
  {
   "attachments": {},
   "cell_type": "markdown",
   "metadata": {},
   "source": [
    "# Relationship to Neural Networks\n",
    "\n",
    "Radial Basis Function network is an artificial neural network with an input layer, a hidden layer, and an output layer. It is similar to 2-layer networks, but we replace the activation function with a Gaussian radial basis function. RBF centers can be selected randomly from a set of data by using supervised learning, or they can be defined by using k-means clusters using unsupervised learning[1]. We take each input vector and feed it into each basis. Then, we do a simple weighted sum to get our approximated function value at the end. This is the approximation is compared to the training data and then assigned a value of similarity. We train these using backpropagation like any neural network.\n",
    "\n",
    "https://ml-concepts.com/wp-content/uploads/2022/03/nn_rbdf.jpg"
   ]
  },
  {
   "attachments": {},
   "cell_type": "markdown",
   "metadata": {},
   "source": [
    "# Some points about RBF Networks:\n",
    "\n",
    "1.Radial basis function networks are distinguished from other neural networks due to their universal approximation and faster learning speed\n",
    "2.They are used in image classification \n",
    "3.It is used for the non-linear classification of data"
   ]
  },
  {
   "attachments": {},
   "cell_type": "markdown",
   "metadata": {},
   "source": [
    "# The RBF Kernel & SVM\n",
    "\n",
    "RBF short for Radial Basis Function Kernel is a very powerful kernel used in SVM. Unlike linear or polynomial kernels, RBF is more complex and efficient at the same time that it can combine multiple polynomial kernels multiple times of different degrees to project the non-linearly separable data into higher dimensional space so that it can be separable using a hyperplane.\n",
    "The RBF kernel works by mapping the data into a high-dimensional space by finding the dot products and squares of all the features in the dataset and then performing the classification using the basic idea of Linear SVM. For projecting the data into a higher dimensional space, the RBF kernel uses the so-called radial basis function."
   ]
  },
  {
   "attachments": {},
   "cell_type": "markdown",
   "metadata": {},
   "source": [
    "# Implementation RBF with Keras in Python:"
   ]
  },
  {
   "cell_type": "code",
   "execution_count": null,
   "metadata": {},
   "outputs": [],
   "source": [
    "from keras.layers import Layer\n",
    "from keras import backend as K\n",
    "\n",
    "class RBFLayer(Layer):\n",
    "    def __init__(self, units, gamma, **kwargs):\n",
    "        super(RBFLayer, self).__init__(**kwargs)\n",
    "        self.units = units\n",
    "        self.gamma = K.cast_to_floatx(gamma)\n",
    "\n",
    "    def build(self, input_shape):\n",
    "#         print(input_shape)\n",
    "#         print(self.units)\n",
    "        self.mu = self.add_weight(name='mu',\n",
    "                                  shape=(int(input_shape[1]), self.units),\n",
    "                                  initializer='uniform',\n",
    "                                  trainable=True)\n",
    "        super(RBFLayer, self).build(input_shape)\n",
    "\n",
    "    def call(self, inputs):\n",
    "        diff = K.expand_dims(inputs) - self.mu\n",
    "        l2 = K.sum(K.pow(diff, 2), axis=1)\n",
    "        res = K.exp(-1 * self.gamma * l2)\n",
    "        return res\n",
    "\n",
    "    def compute_output_shape(self, input_shape):\n",
    "        return (input_shape[0], self.units)"
   ]
  },
  {
   "cell_type": "code",
   "execution_count": null,
   "metadata": {},
   "outputs": [],
   "source": [
    "X = RBF(X, gamma=None)"
   ]
  },
  {
   "cell_type": "code",
   "execution_count": null,
   "metadata": {},
   "outputs": [],
   "source": [
    "clf = SVC(kernel=\"linear\")\n",
    "\n",
    "clf.fit(X, y)\n",
    "\n",
    "pred = clf.predict(X)\n",
    "\n",
    "print(\"Accuracy: \",accuracy_score(pred, y))"
   ]
  },
  {
   "attachments": {},
   "cell_type": "markdown",
   "metadata": {},
   "source": [
    "Accuracy: 0.94"
   ]
  },
  {
   "cell_type": "code",
   "execution_count": null,
   "metadata": {
    "vscode": {
     "languageId": "plaintext"
    }
   },
   "outputs": [],
   "source": [
    "That's great! The accuracy of the model is now 94% when using the RBF kernel for this particular dataset.\n",
    "This happens because the RBF kernel can transform the data points as much as possible for fitting the hyperplane between those two classes of data points.\n",
    "This makes the RBF kernel so powerful when comes to kernelized models."
   ]
  }
 ],
 "metadata": {
  "language_info": {
   "name": "python"
  },
  "orig_nbformat": 4
 },
 "nbformat": 4,
 "nbformat_minor": 2
}
